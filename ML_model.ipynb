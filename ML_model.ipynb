{
 "cells": [
  {
   "cell_type": "code",
   "execution_count": 1,
   "metadata": {},
   "outputs": [],
   "source": [
    "import pandas\n",
    "import dask.array as da\n",
    "import numpy as np\n",
    "import struct\n",
    "from haversine import haversine, Unit\n",
    "from math import sqrt\n",
    "from scipy.signal import medfilt\n",
    "from datetime import datetime, timedelta\n",
    "from timezonefinder import TimezoneFinder\n",
    "import pytz"
   ]
  },
  {
   "cell_type": "code",
   "execution_count": 2,
   "metadata": {},
   "outputs": [],
   "source": [
    "from pyspark.rdd import RDD\n",
    "from pyspark.sql import Row\n",
    "from pyspark.sql import DataFrame\n",
    "from pyspark.sql import SparkSession\n",
    "from pyspark.sql.functions import desc\n",
    "\n",
    "from pyspark.ml.feature import OneHotEncoderEstimator, StringIndexer, VectorAssembler\n",
    "from pyspark.mllib.evaluation import RegressionMetrics\n",
    "from pyspark.ml import Pipeline\n",
    "\n",
    "MAX_MEMORY = '5g'\n",
    "spark = SparkSession \\\n",
    "        .builder \\\n",
    "        .appName(\"FitRec\") \\\n",
    "        .config(\"spark.executor.memory\", MAX_MEMORY) \\\n",
    "        .config(\"spark.driver.memory\", MAX_MEMORY) \\\n",
    "        .getOrCreate()\n",
    "\n",
    "sc = spark.sparkContext"
   ]
  },
  {
   "cell_type": "code",
   "execution_count": 3,
   "metadata": {},
   "outputs": [
    {
     "name": "stdout",
     "output_type": "stream",
     "text": [
      "root\n",
      " |-- altitude: array (nullable = true)\n",
      " |    |-- element: double (containsNull = true)\n",
      " |-- gender: string (nullable = true)\n",
      " |-- heart_rate: array (nullable = true)\n",
      " |    |-- element: long (containsNull = true)\n",
      " |-- id: long (nullable = true)\n",
      " |-- latitude: array (nullable = true)\n",
      " |    |-- element: double (containsNull = true)\n",
      " |-- longitude: array (nullable = true)\n",
      " |    |-- element: double (containsNull = true)\n",
      " |-- speed: array (nullable = true)\n",
      " |    |-- element: double (containsNull = true)\n",
      " |-- sport: string (nullable = true)\n",
      " |-- timestamp: array (nullable = true)\n",
      " |    |-- element: long (containsNull = true)\n",
      " |-- url: string (nullable = true)\n",
      " |-- userId: long (nullable = true)\n",
      "\n"
     ]
    }
   ],
   "source": [
    "data = spark.read.json('endomondoHR_proper.json')\n",
    "data.printSchema()"
   ]
  },
  {
   "cell_type": "code",
   "execution_count": 4,
   "metadata": {},
   "outputs": [
    {
     "data": {
      "text/plain": [
       "167783"
      ]
     },
     "execution_count": 4,
     "metadata": {},
     "output_type": "execute_result"
    }
   ],
   "source": [
    "data.count()"
   ]
  },
  {
   "cell_type": "code",
   "execution_count": 9,
   "metadata": {},
   "outputs": [],
   "source": [
    "# Filter the outliner\n",
    "# Take sample from male and female that have class balance\n"
   ]
  },
  {
   "cell_type": "code",
   "execution_count": 12,
   "metadata": {},
   "outputs": [],
   "source": [
    "sample = data.rdd.takeSample(False, 100, 123)\n",
    "sample = sc.parallelize(sample)\n",
    "# sample = sample.filter(lambda x: all(heart_rate > 40 for heart_rate in x.heart_rate))"
   ]
  },
  {
   "cell_type": "code",
   "execution_count": 13,
   "metadata": {},
   "outputs": [
    {
     "data": {
      "text/plain": [
       "100"
      ]
     },
     "execution_count": 13,
     "metadata": {},
     "output_type": "execute_result"
    }
   ],
   "source": [
    "sample.count()"
   ]
  },
  {
   "cell_type": "code",
   "execution_count": 14,
   "metadata": {},
   "outputs": [],
   "source": [
    "def get_time(timestamp, long, lat):\n",
    "    utc_time = datetime.fromtimestamp(timestamp)\n",
    "#     tf = TimezoneFinder()\n",
    "#     timezone = tf.timezone_at(lng=long, lat=lat)\n",
    "#     try:\n",
    "#         offset = pytz.timezone(timezone).utcoffset(utc_time)\n",
    "#     except:\n",
    "#         offset = timedelta(hours=0)\n",
    "    true_time = utc_time - timedelta(hours=7)\n",
    "    return true_time"
   ]
  },
  {
   "cell_type": "code",
   "execution_count": 15,
   "metadata": {},
   "outputs": [],
   "source": [
    "def derive_feature(row):\n",
    "    \"\"\"\n",
    "    Calculate distance\n",
    "    \"\"\"\n",
    "    lat = medfilt(row.latitude, 3).tolist()\n",
    "    long = medfilt(row.longitude, 3).tolist()\n",
    "    \n",
    "    alt = [0.0001893939*i for i in row.altitude] #Convert from ft to mile\n",
    "    indices = range(1,len(lat))\n",
    "    \n",
    "    diff_alt = [0.0]\n",
    "    diff_alt += [alt[i] - alt[i-1] for i in indices] \n",
    "    \n",
    "    diff_time = [0.0]\n",
    "    diff_time += [row.timestamp[i] - row.timestamp[i-1] for i in indices]\n",
    "    \n",
    "    #Calculate different of heart rate between 2 consecutive timestamp\n",
    "    diff_heart = [0.0]\n",
    "    diff_heart += [row.heart_rate[i] - row.heart_rate[i-1] for i in indices]\n",
    "    \n",
    "    #Calculate distance derive between 2 consecutive timestamps.\n",
    "    #Unit: mile\n",
    "    distance = [0.0]\n",
    "    distance += [haversine((lat[i-1],long[i-1]), (lat[i], long[i]), unit=Unit.MILES) for i in indices]\n",
    "    d_distance = [sqrt(d**2 + a**2) for d, a in zip(distance, diff_alt)] #approximate \n",
    "    \n",
    "    #Calculate average derived speed between 2 consecutive timestamps.\n",
    "    #Unit: MPH\n",
    "    d_speed = [0.0]\n",
    "    try:\n",
    "        d_speed += [dist/time*3600 for dist, time in zip(d_distance[1:], diff_time[1:])]\n",
    "    except:\n",
    "        d_speed = [0.0] * len(row.timestamp)\n",
    "        \n",
    "    #Get local hours\n",
    "    hours = []\n",
    "    minutes = []\n",
    "    for (lg, lt, ts) in zip(row.longitude, row.latitude, row.timestamp):\n",
    "        local_time = get_time(ts,lg,lt)\n",
    "        hours.append(local_time.hour)\n",
    "        minutes.append(local_time.minute)\n",
    "    return Row(altitude = row.altitude,\\\n",
    "               gender = row.gender,\\\n",
    "               heart_rate = row.heart_rate,\\\n",
    "               id = row.id,\\\n",
    "               latitude = row.latitude,\\\n",
    "               longitude = row.longitude,\\\n",
    "               speed = row.speed,\\\n",
    "               sport = row.sport,\\\n",
    "               timestamp = row.timestamp,\\\n",
    "               url = row.url,\\\n",
    "               userId = row.userId,\\\n",
    "               distance = d_distance,\\\n",
    "               derive_speed = d_speed,\\\n",
    "               diff_time = diff_time,\\\n",
    "               diff_heart_rate = diff_heart,\\\n",
    "               hours = hours,\\\n",
    "               minutes = minutes)"
   ]
  },
  {
   "cell_type": "code",
   "execution_count": 16,
   "metadata": {},
   "outputs": [],
   "source": [
    "def transform(row, lag=2):\n",
    "    \"\"\"\n",
    "    Transform a workout session to multiples window frames.\n",
    "    \"\"\"\n",
    "    prefix = [row.id, row.url, row.userId, row.sport, row.gender]\n",
    "    flatted = []\n",
    "    speed = row.speed if row.speed is not None else row.derive_speed\n",
    "    a_features = [row.longitude, row.latitude, row.hours]\n",
    "    b_features = [speed, row.distance, row.diff_time]\n",
    "    c_features = [row.heart_rate, row.diff_heart_rate]\n",
    "    for idx in range(len(row.timestamp)):\n",
    "        a_row = []\n",
    "        b_row = []\n",
    "        c_row = []\n",
    "        if idx < lag:\n",
    "            mask = [0.0] * (lag-idx) #[0, 0, 1]\n",
    "            for a in a_features:\n",
    "                a_row += mask + a[0:idx+1]\n",
    "            for b in b_features:\n",
    "                roller = mask + b[0:idx+1]\n",
    "                b_row += roller + [float(np.min(roller)), float(np.max(roller)), float(np.mean(roller)),\\\n",
    "                          float(np.std(roller))]\n",
    "            for c in c_features:\n",
    "                roller = mask + c[0:idx+1]\n",
    "                b_row += roller + [float(np.min(roller[:-1])), float(np.max(roller[:-1])), \\\n",
    "                                   float(np.mean(roller[:-1])), float(np.std(roller[:-1]))]\n",
    "        else:\n",
    "            for a in a_features:\n",
    "                a_row += a[idx-lag:idx+1]\n",
    "            for b in b_features:\n",
    "                roller = b[idx-lag:idx+1]\n",
    "#                 print(len(roller), idx)\n",
    "                b_row += roller + [float(np.min(roller)), float(np.max(roller)), float(np.mean(roller)),\\\n",
    "                          float(np.std(roller))]\n",
    "            for c in c_features:\n",
    "                roller = c[idx-lag:idx+1]\n",
    "                c_row += roller + [float(np.min(roller[:-1])), float(np.max(roller[:-1])), \\\n",
    "                                   float(np.mean(roller[:-1])), float(np.std(roller[:-1]))]\n",
    "                \n",
    "        tmp = a_row + b_row + c_row\n",
    "        tmp = [float(x) for x in a_row + b_row + c_row]\n",
    "        flatted.append(prefix + tmp)\n",
    "    return flatted"
   ]
  },
  {
   "cell_type": "code",
   "execution_count": 17,
   "metadata": {},
   "outputs": [
    {
     "name": "stdout",
     "output_type": "stream",
     "text": [
      "['id', 'url', 'userId', 'sport', 'gender', 'longitude_2', 'longitude_1', 'longitude_0', 'latitude_2', 'latitude_1', 'latitude_0', 'hours_2', 'hours_1', 'hours_0', 'speed_2', 'speed_1', 'speed_0', 'speed_min', 'speed_max', 'speed_mean', 'speed_std', 'distance_2', 'distance_1', 'distance_0', 'distance_min', 'distance_max', 'distance_mean', 'distance_std', 'diff_time_2', 'diff_time_1', 'diff_time_0', 'diff_time_min', 'diff_time_max', 'diff_time_mean', 'diff_time_std', 'heart_rate_2', 'heart_rate_1', 'heart_rate_0', 'heart_rate_min', 'heart_rate_max', 'heart_rate_mean', 'heart_rate_std', 'diff_heart_rate_2', 'diff_heart_rate_1', 'diff_heart_rate_0', 'diff_heart_rate_min', 'diff_heart_rate_max', 'diff_heart_rate_mean', 'diff_heart_rate_std']\n"
     ]
    }
   ],
   "source": [
    "agg_name = ['min', 'max', 'mean', 'std']\n",
    "a_name = ['longitude', 'latitude', 'hours']\n",
    "b_name = ['speed', 'distance', 'diff_time', 'heart_rate', 'diff_heart_rate']\n",
    "column = ['id', 'url', 'userId', 'sport', 'gender']\n",
    "\n",
    "for name in a_name:\n",
    "    column += [name + '_{}'.format(i) for i in range(2, -1, -1)]\n",
    "for name in b_name:\n",
    "    column += [name + '_{}'.format(i) for i in range(2, -1, -1)]\n",
    "    column += [name + '_{}'.format(i) for i in agg_name]\n",
    "print(column)\n",
    "#export feature importances\n",
    "# 2 rounds of training:\n",
    "#first: basic model => feature importances\n",
    "#second round: importances features => train a model => better performance\n",
    "\n",
    "#square(heart_rate), heart_rate^3, ..."
   ]
  },
  {
   "cell_type": "code",
   "execution_count": 113,
   "metadata": {},
   "outputs": [],
   "source": [
    "df = sample.map(derive_feature).flatMap(transform).toDF(column)\n",
    "category_cols = ['sport', 'gender']\n",
    "\n",
    "stages =[]\n",
    "for category_col in category_cols:\n",
    "    str_indexer = StringIndexer(inputCol = category_col, outputCol = category_col + '_index')\n",
    "    encoder = OneHotEncoderEstimator(inputCols=[str_indexer.getOutputCol()]\\\n",
    "                                     , outputCols=[category_col + \"_vec\"])\n",
    "    stages += [str_indexer, encoder]\n",
    "numeric_cols = [x for x in column[5:] if x != 'diff_heart_rate_0' and x != 'heart_rate_0']\n",
    "assembler_input = [c + \"_vec\" for c in category_cols] + numeric_cols\n",
    "assembler = VectorAssembler(inputCols=assembler_input, outputCol='features', handleInvalid='skip')\n",
    "stages += [assembler]\n",
    "\n",
    "partial_pipeline = Pipeline().setStages(stages)\n",
    "pipeline_model = partial_pipeline.fit(df)\n",
    "prepared_df = pipeline_model.transform(df)"
   ]
  },
  {
   "cell_type": "code",
   "execution_count": 134,
   "metadata": {},
   "outputs": [],
   "source": [
    "from pyspark.ml.tuning import CrossValidator, ParamGridBuilder\n",
    "from pyspark.ml.evaluation import RegressionEvaluator\n",
    "\n",
    "parameters = {'maxDepth':[3, 5, 7], 'numTrees':[5, 10, 20, 30]}\n",
    "\n",
    "prepared_df_cv = prepared_df.withColumnRenamed('heart_rate_0', 'label')\n",
    "train, test = prepared_df_cv.randomSplit([0.8, 0.2], seed=123)\n",
    "rf = RandomForestRegressor(labelCol=\"label\", featuresCol=\"features\")\n",
    "\n",
    "paramGrid = ParamGridBuilder() \\\n",
    "    .addGrid(rf.maxDepth, [3, 5, 7]) \\\n",
    "    .addGrid(rf.numTrees, [5, 10, 20, 30]) \\\n",
    "    .build()\n",
    "\n",
    "pipeline = Pipeline(stages=[rf])\n",
    "\n",
    "crossval = CrossValidator(estimator=pipeline,\n",
    "                          estimatorParamMaps=paramGrid,\n",
    "                          evaluator=RegressionEvaluator(),\n",
    "                          numFolds=5)\n",
    "cvModel = crossval.fit(train)"
   ]
  },
  {
   "cell_type": "code",
   "execution_count": 135,
   "metadata": {},
   "outputs": [
    {
     "data": {
      "text/plain": [
       "{Param(parent='RandomForestRegressor_ab194df99ffc', name='cacheNodeIds', doc='If false, the algorithm will pass trees to executors to match instances with nodes. If true, the algorithm will cache node IDs for each instance. Caching can speed up training of deeper trees.'): False,\n",
       " Param(parent='RandomForestRegressor_ab194df99ffc', name='checkpointInterval', doc='set checkpoint interval (>= 1) or disable checkpoint (-1). E.g. 10 means that the cache will get checkpointed every 10 iterations. Note: this setting will be ignored if the checkpoint directory is not set in the SparkContext'): 10,\n",
       " Param(parent='RandomForestRegressor_ab194df99ffc', name='featureSubsetStrategy', doc='The number of features to consider for splits at each tree node. Supported options: auto, all, onethird, sqrt, log2, (0.0-1.0], [1-n].'): 'auto',\n",
       " Param(parent='RandomForestRegressor_ab194df99ffc', name='featuresCol', doc='features column name'): 'features',\n",
       " Param(parent='RandomForestRegressor_ab194df99ffc', name='impurity', doc='Criterion used for information gain calculation (case-insensitive). Supported options: variance'): 'variance',\n",
       " Param(parent='RandomForestRegressor_ab194df99ffc', name='labelCol', doc='label column name'): 'label',\n",
       " Param(parent='RandomForestRegressor_ab194df99ffc', name='maxBins', doc='Max number of bins for discretizing continuous features.  Must be at least 2 and at least number of categories for any categorical feature.'): 32,\n",
       " Param(parent='RandomForestRegressor_ab194df99ffc', name='maxDepth', doc='Maximum depth of the tree. (Nonnegative) E.g., depth 0 means 1 leaf node; depth 1 means 1 internal node + 2 leaf nodes.'): 7,\n",
       " Param(parent='RandomForestRegressor_ab194df99ffc', name='maxMemoryInMB', doc='Maximum memory in MB allocated to histogram aggregation.'): 256,\n",
       " Param(parent='RandomForestRegressor_ab194df99ffc', name='minInfoGain', doc='Minimum information gain for a split to be considered at a tree node.'): 0.0,\n",
       " Param(parent='RandomForestRegressor_ab194df99ffc', name='minInstancesPerNode', doc='Minimum number of instances each child must have after split.  If a split causes the left or right child to have fewer than minInstancesPerNode, the split will be discarded as invalid. Must be at least 1.'): 1,\n",
       " Param(parent='RandomForestRegressor_ab194df99ffc', name='numTrees', doc='Number of trees to train (at least 1)'): 20,\n",
       " Param(parent='RandomForestRegressor_ab194df99ffc', name='predictionCol', doc='prediction column name'): 'prediction',\n",
       " Param(parent='RandomForestRegressor_ab194df99ffc', name='seed', doc='random seed'): 4531325026892386050,\n",
       " Param(parent='RandomForestRegressor_ab194df99ffc', name='subsamplingRate', doc='Fraction of the training data used for learning each decision tree, in range (0, 1].'): 1.0}"
      ]
     },
     "execution_count": 135,
     "metadata": {},
     "output_type": "execute_result"
    }
   ],
   "source": [
    "cvModel.bestModel.stages[0].extractParamMap()"
   ]
  },
  {
   "cell_type": "code",
   "execution_count": 136,
   "metadata": {},
   "outputs": [
    {
     "name": "stdout",
     "output_type": "stream",
     "text": [
      "MSE = 20.60161445839722\n",
      "RMSE = 4.538900137521999\n"
     ]
    }
   ],
   "source": [
    "predict = cvModel.transform(test)\n",
    "value_and_pred = predict.rdd.map(lambda x: (float(x.label), float(x.prediction)))\n",
    "# ((real value, preditec value)) \n",
    "metrics = RegressionMetrics(value_and_pred)\n",
    "# Scale of heart rate from 60 - 200\n",
    "\n",
    "print(\"MSE = %s\" % metrics.meanSquaredError)\n",
    "print(\"RMSE = %s\" % metrics.rootMeanSquaredError)\n"
   ]
  },
  {
   "cell_type": "code",
   "execution_count": 137,
   "metadata": {},
   "outputs": [],
   "source": [
    "from pyspark.ml.classification import RandomForestClassifier\n",
    "from pyspark.ml.regression import RandomForestRegressor\n",
    "# df.select('label').cast('str')\n",
    "# df.select('prediction').cast('integer')\n",
    "\n",
    "train, test = prepared_df.randomSplit([0.8, 0.2], seed=123)\n",
    "rf = RandomForestRegressor(labelCol=\"diff_heart_rate_0\", featuresCol=\"features\", maxDepth=7, numTrees=100)\n",
    "rf_model = rf.fit(train)\n",
    "\n",
    "predict = rf_model.transform(test)"
   ]
  },
  {
   "cell_type": "code",
   "execution_count": 87,
   "metadata": {},
   "outputs": [
    {
     "name": "stdout",
     "output_type": "stream",
     "text": [
      "['sport_vec', 'gender_vec', 'longitude_2', 'longitude_1', 'longitude_0', 'latitude_2', 'latitude_1', 'latitude_0', 'hours_2', 'hours_1', 'hours_0', 'speed_2', 'speed_1', 'speed_0', 'speed_min', 'speed_max', 'speed_mean', 'speed_std', 'distance_2', 'distance_1', 'distance_0', 'distance_min', 'distance_max', 'distance_mean', 'distance_std', 'diff_time_2', 'diff_time_1', 'diff_time_0', 'diff_time_min', 'diff_time_max', 'diff_time_mean', 'diff_time_std', 'heart_rate_2', 'heart_rate_1', 'heart_rate_min', 'heart_rate_max', 'heart_rate_mean', 'heart_rate_std', 'diff_heart_rate_2', 'diff_heart_rate_1', 'diff_heart_rate_min', 'diff_heart_rate_max', 'diff_heart_rate_mean', 'diff_heart_rate_std']\n"
     ]
    }
   ],
   "source": [
    "print(assembler_input)"
   ]
  },
  {
   "cell_type": "code",
   "execution_count": 88,
   "metadata": {},
   "outputs": [
    {
     "data": {
      "text/plain": [
       "10081"
      ]
     },
     "execution_count": 88,
     "metadata": {},
     "output_type": "execute_result"
    }
   ],
   "source": [
    "predict.count()"
   ]
  },
  {
   "cell_type": "code",
   "execution_count": 138,
   "metadata": {},
   "outputs": [
    {
     "name": "stdout",
     "output_type": "stream",
     "text": [
      "MSE = 14.425939315648481\n",
      "RMSE = 3.7981494593615563\n"
     ]
    }
   ],
   "source": [
    "value_and_pred = predict.rdd.map(lambda x: (float(x.diff_heart_rate_0), float(x.prediction)))\n",
    "# ((real value, preditec value)) \n",
    "metrics = RegressionMetrics(value_and_pred)\n",
    "# Scale of heart rate from 60 - 200\n",
    "\n",
    "print(\"MSE = %s\" % metrics.meanSquaredError)\n",
    "print(\"RMSE = %s\" % metrics.rootMeanSquaredError)"
   ]
  },
  {
   "cell_type": "code",
   "execution_count": 139,
   "metadata": {},
   "outputs": [],
   "source": [
    "value_and_pred = predict.toPandas()"
   ]
  },
  {
   "cell_type": "code",
   "execution_count": 147,
   "metadata": {},
   "outputs": [],
   "source": [
    "value_and_pred['rmse'] = (value_and_pred['prediction'] - value_and_pred['diff_heart_rate_0'])**2"
   ]
  },
  {
   "cell_type": "code",
   "execution_count": 163,
   "metadata": {},
   "outputs": [
    {
     "ename": "NameError",
     "evalue": "name 'plt' is not defined",
     "output_type": "error",
     "traceback": [
      "\u001b[0;31m---------------------------------------------------------------------------\u001b[0m",
      "\u001b[0;31mNameError\u001b[0m                                 Traceback (most recent call last)",
      "\u001b[0;32m<ipython-input-163-8ec6140dac68>\u001b[0m in \u001b[0;36m<module>\u001b[0;34m\u001b[0m\n\u001b[1;32m      1\u001b[0m \u001b[0mavg\u001b[0m \u001b[0;34m=\u001b[0m \u001b[0mnp\u001b[0m\u001b[0;34m.\u001b[0m\u001b[0msqrt\u001b[0m\u001b[0;34m(\u001b[0m\u001b[0mvalue_and_pred\u001b[0m\u001b[0;34m.\u001b[0m\u001b[0mgroupby\u001b[0m\u001b[0;34m(\u001b[0m\u001b[0;34m[\u001b[0m\u001b[0;34m'sport'\u001b[0m\u001b[0;34m]\u001b[0m\u001b[0;34m)\u001b[0m\u001b[0;34m.\u001b[0m\u001b[0mmean\u001b[0m\u001b[0;34m(\u001b[0m\u001b[0;34m)\u001b[0m\u001b[0;34m[\u001b[0m\u001b[0;34m[\u001b[0m\u001b[0;34m'rmse'\u001b[0m\u001b[0;34m]\u001b[0m\u001b[0;34m]\u001b[0m\u001b[0;34m)\u001b[0m\u001b[0;34m\u001b[0m\u001b[0;34m\u001b[0m\u001b[0m\n\u001b[1;32m      2\u001b[0m \u001b[0mavg\u001b[0m\u001b[0;34m.\u001b[0m\u001b[0mplot\u001b[0m\u001b[0;34m.\u001b[0m\u001b[0mbarh\u001b[0m\u001b[0;34m(\u001b[0m\u001b[0mtitle\u001b[0m\u001b[0;34m=\u001b[0m\u001b[0;34m'RMSE'\u001b[0m\u001b[0;34m,\u001b[0m \u001b[0mfigsize\u001b[0m\u001b[0;34m=\u001b[0m\u001b[0;34m(\u001b[0m\u001b[0;36m8\u001b[0m\u001b[0;34m,\u001b[0m\u001b[0;36m8\u001b[0m\u001b[0;34m)\u001b[0m\u001b[0;34m)\u001b[0m\u001b[0;34m\u001b[0m\u001b[0;34m\u001b[0m\u001b[0m\n\u001b[0;32m----> 3\u001b[0;31m \u001b[0mplt\u001b[0m\u001b[0;34m.\u001b[0m\u001b[0mxlabel\u001b[0m\u001b[0;34m(\u001b[0m\u001b[0;34m'Feature Importance Score'\u001b[0m\u001b[0;34m)\u001b[0m\u001b[0;34m\u001b[0m\u001b[0;34m\u001b[0m\u001b[0m\n\u001b[0m\u001b[1;32m      4\u001b[0m \u001b[0mplt\u001b[0m\u001b[0;34m.\u001b[0m\u001b[0mshow\u001b[0m\u001b[0;34m(\u001b[0m\u001b[0;34m)\u001b[0m\u001b[0;34m\u001b[0m\u001b[0;34m\u001b[0m\u001b[0m\n",
      "\u001b[0;31mNameError\u001b[0m: name 'plt' is not defined"
     ]
    },
    {
     "data": {
      "image/png": "[encoded data removed]",
      "text/plain": [
       "<Figure size 576x576 with 1 Axes>"
      ]
     },
     "metadata": {
      "needs_background": "light"
     },
     "output_type": "display_data"
    }
   ],
   "source": [
    "avg = np.sqrt(value_and_pred.groupby(['sport']).mean()[['rmse']])\n",
    "avg.plot.barh(title='RMSE', figsize=(8,8))\n",
    "plt.xlabel('Feature Importance Score')\n",
    "plt.show()"
   ]
  },
  {
   "cell_type": "code",
   "execution_count": 90,
   "metadata": {},
   "outputs": [],
   "source": [
    "def plot_feature_importances(importances, col_name, top_n=10, figsize=(8,8), print_table=False, title=\"Feature Importances\"):\n",
    "    \n",
    "    import pandas as pd\n",
    "    import numpy  as np\n",
    "    import matplotlib.pyplot as plt\n",
    "\n",
    "    feat_imp = pd.DataFrame({'importance':importances})    \n",
    "    feat_imp['feature'] = col_name\n",
    "    feat_imp.sort_values(by='importance', ascending=False, inplace=True)\n",
    "    feat_imp = feat_imp.iloc[:top_n]\n",
    "    \n",
    "    feat_imp.sort_values(by='importance', inplace=True)\n",
    "    feat_imp = feat_imp.set_index('feature', drop=True)\n",
    "    feat_imp.plot.barh(title=title, figsize=figsize)\n",
    "    plt.xlabel('Feature Importance Score')\n",
    "    plt.show()\n",
    "    \n",
    "    if print_table:\n",
    "        from IPython.display import display\n",
    "        print(\"Top {} features in descending order of importance\".format(top_n))\n",
    "        display(feat_imp.sort_values(by='importance', ascending=False))\n",
    "        \n",
    "    return feat_imp"
   ]
  },
  {
   "cell_type": "code",
   "execution_count": 91,
   "metadata": {},
   "outputs": [
    {
     "data": {
      "image/png": "[encoded data removed]",
      "text/plain": [
       "<Figure size 576x576 with 1 Axes>"
      ]
     },
     "metadata": {
      "needs_background": "light"
     },
     "output_type": "display_data"
    }
   ],
   "source": [
    "top_features = plot_feature_importances(rf_model.featureImportances.values, assembler_input, top_n=20)"
   ]
  },
  {
   "cell_type": "code",
   "execution_count": 92,
   "metadata": {},
   "outputs": [
    {
     "data": {
      "text/plain": [
       "['heart_rate_1',\n",
       " 'speed_min',\n",
       " 'distance_min',\n",
       " 'speed_mean',\n",
       " 'speed_std',\n",
       " 'distance_0',\n",
       " 'heart_rate_min',\n",
       " 'heart_rate_mean',\n",
       " 'heart_rate_max',\n",
       " 'diff_heart_rate_min',\n",
       " 'diff_heart_rate_std',\n",
       " 'distance_max',\n",
       " 'diff_heart_rate_mean',\n",
       " 'distance_mean',\n",
       " 'diff_heart_rate_max',\n",
       " 'heart_rate_std',\n",
       " 'heart_rate_2',\n",
       " 'speed_0',\n",
       " 'diff_time_0',\n",
       " 'diff_heart_rate_1']"
      ]
     },
     "execution_count": 92,
     "metadata": {},
     "output_type": "execute_result"
    }
   ],
   "source": [
    "top_features.index.tolist()"
   ]
  },
  {
   "cell_type": "code",
   "execution_count": 98,
   "metadata": {},
   "outputs": [
    {
     "name": "stdout",
     "output_type": "stream",
     "text": [
      "MSE = 15.196365626966822\n",
      "RMSE = 3.898251611551879\n"
     ]
    }
   ],
   "source": [
    "df = sample.map(derive_feature).flatMap(transform).toDF(column)\n",
    "category_cols = ['sport', 'gender']\n",
    "\n",
    "stages =[]\n",
    "for category_col in category_cols:\n",
    "    str_indexer = StringIndexer(inputCol = category_col, outputCol = category_col + '_index')\n",
    "    encoder = OneHotEncoderEstimator(inputCols=[str_indexer.getOutputCol()]\\\n",
    "                                     , outputCols=[category_col + \"_vec\"])\n",
    "    stages += [str_indexer, encoder]\n",
    "top_ft = top_features.index.tolist()\n",
    "assembler = VectorAssembler(inputCols=top_ft, outputCol='features_2', handleInvalid='skip')\n",
    "stages += [assembler]\n",
    "\n",
    "partial_pipeline = Pipeline().setStages(stages)\n",
    "pipeline_model = partial_pipeline.fit(df)\n",
    "prepared_df_1 = pipeline_model.transform(df)\n",
    "\n",
    "train_1, test_1 = prepared_df_1.randomSplit([0.8, 0.2], seed=123)\n",
    "rf_1 = RandomForestRegressor(labelCol=\"diff_heart_rate_0\", featuresCol=\"features_2\")\n",
    "rf_model_1 = rf.fit(train)\n",
    "\n",
    "predict = rf_model_1.transform(test)\n",
    "\n",
    "value_and_pred = predict.rdd.map(lambda x: (float(x.diff_heart_rate_0), float(x.prediction)))\n",
    "# ((real value, preditec value)) \n",
    "metrics = RegressionMetrics(value_and_pred)\n",
    "# Scale of heart rate from 60 - 200\n",
    "\n",
    "print(\"MSE = %s\" % metrics.meanSquaredError)\n",
    "print(\"RMSE = %s\" % metrics.rootMeanSquaredError)"
   ]
  }
 ],
 "metadata": {
  "kernelspec": {
   "display_name": "Python 3",
   "language": "python",
   "name": "python3"
  },
  "language_info": {
   "codemirror_mode": {
    "name": "ipython",
    "version": 3
   },
   "file_extension": ".py",
   "mimetype": "text/x-python",
   "name": "python",
   "nbconvert_exporter": "python",
   "pygments_lexer": "ipython3",
   "version": "3.7.7"
  }
 },
 "nbformat": 4,
 "nbformat_minor": 2
}
